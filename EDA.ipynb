{
 "cells": [
  {
   "cell_type": "markdown",
   "metadata": {},
   "source": [
    "Basic EDA starting from the csv"
   ]
  },
  {
   "cell_type": "code",
   "execution_count": 24,
   "metadata": {},
   "outputs": [],
   "source": [
    "#convert to parquet to save space\n",
    "import pyarrow.csv as pv\n",
    "import pyarrow.parquet as pq\n",
    "\n",
    "table = pv.read_csv('checksize.csv')\n",
    "pq.write_table(table, 'checksize.csv'.replace('csv', 'parquet'))\n"
   ]
  },
  {
   "cell_type": "code",
   "execution_count": 30,
   "metadata": {},
   "outputs": [
    {
     "data": {
      "text/plain": [
       "<pyarrow._parquet.RowGroupMetaData object at 0x0000024F193ACEF0>\n",
       "  num_columns: 3\n",
       "  num_rows: 59819791\n",
       "  total_byte_size: 1369613088"
      ]
     },
     "execution_count": 30,
     "metadata": {},
     "output_type": "execute_result"
    }
   ],
   "source": [
    "# Check the file to see if it needs to be cleaned\n",
    "parquet_file = pq.ParquetFile('checksize.parquet')\n",
    "parquet_file.metadata.row_group(0)"
   ]
  },
  {
   "cell_type": "markdown",
   "metadata": {},
   "source": [
    "There are 3 columns, and 598119791 rows"
   ]
  },
  {
   "cell_type": "code",
   "execution_count": 32,
   "metadata": {},
   "outputs": [
    {
     "data": {
      "text/plain": [
       "<pyarrow._parquet.ColumnChunkMetaData object at 0x0000024F194CA0E0>\n",
       "  file_offset: 151949846\n",
       "  file_path: \n",
       "  physical_type: INT64\n",
       "  num_values: 59819791\n",
       "  path_in_schema: 1315922016\n",
       "  is_stats_set: True\n",
       "  statistics:\n",
       "    <pyarrow._parquet.Statistics object at 0x0000024F194CA180>\n",
       "      has_min_max: True\n",
       "      min: 1315922024\n",
       "      max: 1650017854\n",
       "      null_count: 0\n",
       "      distinct_count: 0\n",
       "      num_values: 59819791\n",
       "      physical_type: INT64\n",
       "      logical_type: None\n",
       "      converted_type (legacy): NONE\n",
       "  compression: SNAPPY\n",
       "  encodings: ('PLAIN_DICTIONARY', 'PLAIN', 'RLE', 'PLAIN')\n",
       "  has_dictionary_page: True\n",
       "  dictionary_page_offset: 4\n",
       "  data_page_offset: 562994\n",
       "  total_compressed_size: 151949842\n",
       "  total_uncompressed_size: 478672091"
      ]
     },
     "execution_count": 32,
     "metadata": {},
     "output_type": "execute_result"
    }
   ],
   "source": [
    "parquet_file.metadata.row_group(0).column(0)"
   ]
  },
  {
   "cell_type": "markdown",
   "metadata": {},
   "source": [
    "This is the Unix Time column. This can be converted to a timestamp type if needed later on. I can see the range of the data using a conversion function"
   ]
  },
  {
   "cell_type": "code",
   "execution_count": 54,
   "metadata": {},
   "outputs": [
    {
     "name": "stdout",
     "output_type": "stream",
     "text": [
      "2011-September-13\n",
      "2022-April-15\n"
     ]
    }
   ],
   "source": [
    "from datetime import datetime\n",
    "print(datetime.strftime(datetime.fromtimestamp(1315922024),'%Y-%B-%d'))\n",
    "print(datetime.strftime(datetime.fromtimestamp(1650017854),'%Y-%B-%d'))"
   ]
  },
  {
   "cell_type": "markdown",
   "metadata": {},
   "source": [
    "The Data starts from 2011 and ends in 2022 April"
   ]
  },
  {
   "cell_type": "code",
   "execution_count": 55,
   "metadata": {},
   "outputs": [
    {
     "data": {
      "text/plain": [
       "<pyarrow._parquet.ColumnChunkMetaData object at 0x0000024F194CA950>\n",
       "  file_offset: 335614975\n",
       "  file_path: \n",
       "  physical_type: DOUBLE\n",
       "  num_values: 59819791\n",
       "  path_in_schema: 5.800000000000\n",
       "  is_stats_set: True\n",
       "  statistics:\n",
       "    <pyarrow._parquet.Statistics object at 0x0000024F194CACC0>\n",
       "      has_min_max: True\n",
       "      min: 1.5\n",
       "      max: 69000.0\n",
       "      null_count: 0\n",
       "      distinct_count: 0\n",
       "      num_values: 59819791\n",
       "      physical_type: DOUBLE\n",
       "      logical_type: None\n",
       "      converted_type (legacy): NONE\n",
       "  compression: SNAPPY\n",
       "  encodings: ('PLAIN_DICTIONARY', 'PLAIN', 'RLE', 'PLAIN')\n",
       "  has_dictionary_page: True\n",
       "  dictionary_page_offset: 151949969\n",
       "  data_page_offset: 152479833\n",
       "  total_compressed_size: 183665006\n",
       "  total_uncompressed_size: 412733237"
      ]
     },
     "execution_count": 55,
     "metadata": {},
     "output_type": "execute_result"
    }
   ],
   "source": [
    "parquet_file.metadata.row_group(0).column(1)"
   ]
  },
  {
   "cell_type": "markdown",
   "metadata": {},
   "source": [
    "The price of bitcoin on the exchange ranged from $1.5 to $69000 USD."
   ]
  },
  {
   "cell_type": "code",
   "execution_count": 56,
   "metadata": {},
   "outputs": [
    {
     "data": {
      "text/plain": [
       "<pyarrow._parquet.ColumnChunkMetaData object at 0x0000024F194CE1D0>\n",
       "  file_offset: 708516828\n",
       "  file_path: \n",
       "  physical_type: DOUBLE\n",
       "  num_values: 59819791\n",
       "  path_in_schema: 1.000000000000\n",
       "  is_stats_set: True\n",
       "  statistics:\n",
       "    <pyarrow._parquet.Statistics object at 0x0000024F194DA180>\n",
       "      has_min_max: True\n",
       "      min: -33.059496\n",
       "      max: 2932.84\n",
       "      null_count: 0\n",
       "      distinct_count: 0\n",
       "      num_values: 59819791\n",
       "      physical_type: DOUBLE\n",
       "      logical_type: None\n",
       "      converted_type (legacy): NONE\n",
       "  compression: SNAPPY\n",
       "  encodings: ('PLAIN_DICTIONARY', 'PLAIN', 'RLE', 'PLAIN')\n",
       "  has_dictionary_page: True\n",
       "  dictionary_page_offset: 335615108\n",
       "  data_page_offset: 336662392\n",
       "  total_compressed_size: 372901720\n",
       "  total_uncompressed_size: 478207760"
      ]
     },
     "execution_count": 56,
     "metadata": {},
     "output_type": "execute_result"
    }
   ],
   "source": [
    "parquet_file.metadata.row_group(0).column(2)"
   ]
  },
  {
   "cell_type": "markdown",
   "metadata": {},
   "source": [
    "Historic trade amounts range from -33 to 2932"
   ]
  }
 ],
 "metadata": {
  "interpreter": {
   "hash": "421a284d453b27ecc9f48f1202d8e940b688d80b487bc5d36244686e40e1c3bd"
  },
  "kernelspec": {
   "display_name": "Python 3.9.12 64-bit (windows store)",
   "language": "python",
   "name": "python3"
  },
  "language_info": {
   "codemirror_mode": {
    "name": "ipython",
    "version": 3
   },
   "file_extension": ".py",
   "mimetype": "text/x-python",
   "name": "python",
   "nbconvert_exporter": "python",
   "pygments_lexer": "ipython3",
   "version": "3.9.12"
  },
  "orig_nbformat": 4
 },
 "nbformat": 4,
 "nbformat_minor": 2
}
